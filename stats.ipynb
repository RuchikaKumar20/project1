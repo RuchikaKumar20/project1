{
 "cells": [
  {
   "cell_type": "code",
   "execution_count": 3,
   "metadata": {},
   "outputs": [
    {
     "name": "stdout",
     "output_type": "stream",
     "text": [
      "the ave length of conversations is 2632.48773016 characters\n",
      "the average number of utterance in for each conversation is 4.27108154108\n",
      "the average number of words in for each conversation is 333.172922791\n"
     ]
    }
   ],
   "source": [
    "import numpy as np\n",
    "file= open('/Users/yanning/Downloads/message-2/auditors_fra.xml', 'rb')\n",
    "text=file.read()\n",
    "\n",
    "conversation=text.split('</s>')\n",
    "\n",
    "conversationlen=[len(i) for i in conversation]\n",
    "avec=np.mean(conversationlen)\n",
    "print 'the ave length of conversations is '+ str(avec)+ ' characters'\n",
    "\n",
    "\n",
    "uttnum=[]\n",
    "wordsnum=[]\n",
    "for ele in conversation:\n",
    "    n=[i for i in range(len(ele)) if ele.startswith('<utt', i)]\n",
    "    #print n, len(n)\n",
    "    uttnum.append(len(n))\n",
    "    words=len(ele.split())\n",
    "    wordsnum.append(words)\n",
    "#print uttnumnp.mean(uttum)\n",
    "uttmean=np.mean(uttnum)\n",
    "wordsmean=np.mean(wordsnum)\n",
    "\n",
    "print 'the average number of utterance in for each conversation is '+ str(uttmean)\n",
    "print \"the average number of words in for each conversation is \"+ str(wordsmean)\n",
    "    "
   ]
  }
 ],
 "metadata": {
  "anaconda-cloud": {},
  "kernelspec": {
   "display_name": "Python 2",
   "language": "python",
   "name": "python2"
  },
  "language_info": {
   "codemirror_mode": {
    "name": "ipython",
    "version": 2
   },
   "file_extension": ".py",
   "mimetype": "text/x-python",
   "name": "python",
   "nbconvert_exporter": "python",
   "pygments_lexer": "ipython2",
   "version": "2.7.13"
  }
 },
 "nbformat": 4,
 "nbformat_minor": 2
}
